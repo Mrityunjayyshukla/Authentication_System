{
  "nbformat": 4,
  "nbformat_minor": 0,
  "metadata": {
    "colab": {
      "provenance": [],
      "authorship_tag": "ABX9TyO0CJAu3izSb+ZLssRkewx7"
    },
    "kernelspec": {
      "name": "python3",
      "display_name": "Python 3"
    },
    "language_info": {
      "name": "python"
    }
  },
  "cells": [
    {
      "cell_type": "markdown",
      "source": [
        "### Authentication and Authorization System"
      ],
      "metadata": {
        "id": "OXJil90NS1p9"
      }
    },
    {
      "cell_type": "markdown",
      "source": [
        "1. OAuth Grant type: Authorization Code Grant<br>\n",
        "2. Support for multi factor authorization<br>\n",
        "3. JWT Token service"
      ],
      "metadata": {
        "id": "1xrmjRDWS-_V"
      }
    },
    {
      "cell_type": "markdown",
      "source": [
        "###Roadmap to follow\n",
        "1. Creating a user authentication system\n",
        "2. Store client application and permission\n",
        "3. Scope based access control can be chosen (read, write, etc.)\n",
        "4. Generate authorization codes & access tokens when users grant permissions"
      ],
      "metadata": {
        "id": "E5rQ_rTzTjjv"
      }
    },
    {
      "cell_type": "code",
      "source": [
        "# testing database SQLite\n",
        "import sqlite3 as sq\n",
        "\n",
        "conn = sq.connect(\"test_database.db\")\n",
        "cursor = conn.cursor()\n",
        "\n",
        "# Creating a table\n",
        "cursor.execute(\"CREATE TABLE IF NOT EXISTS users (id INTEGER PRIMARY KEY, name TEXT)\")\n",
        "\n",
        "# Inserting values into the table\n",
        "cursor.execute(\"INSERT INTO users (name) VALUES ('Alice')\")\n",
        "conn.commit()\n",
        "\n",
        "# fetching the values\n",
        "cursor.execute(\"SELECT * FROM users\")\n",
        "print(cursor.fetchall())\n",
        "\n",
        "cursor.close()\n",
        "conn.close()\n",
        "\n",
        "# Testing worked perfectly ✔"
      ],
      "metadata": {
        "colab": {
          "base_uri": "https://localhost:8080/"
        },
        "id": "bN39hXJAVYPB",
        "outputId": "e6a51979-f27b-44a0-8c62-fa2aa3ce14bf"
      },
      "execution_count": null,
      "outputs": [
        {
          "output_type": "stream",
          "name": "stdout",
          "text": [
            "[(1, 'Alice')]\n"
          ]
        }
      ]
    },
    {
      "cell_type": "code",
      "source": [
        "import getpass"
      ],
      "metadata": {
        "id": "ZMnV1uf1aCpT"
      },
      "execution_count": null,
      "outputs": []
    },
    {
      "cell_type": "code",
      "source": [
        "# Creating the database for the storing the values\n",
        "import sqlite3 as sq\n",
        "conn = sq.connect(\"user_credentials.db\")\n",
        "cursor = conn.cursor()\n",
        "\n",
        "# Creating the table\n",
        "# username(unique), firstname, lastname, email, password\n",
        "cursor.execute(\"CREATE TABLE IF NOT EXISTS user_credentials(username varchar(20) primary key, firstname varchar(20), lastname varchar(20), email varchar(40), password varchar(100))\")\n",
        "\n",
        "# Creating the password table\n",
        "\n",
        "cursor.close()\n",
        "conn.close()"
      ],
      "metadata": {
        "id": "SkZLXM71y-eV"
      },
      "execution_count": null,
      "outputs": []
    },
    {
      "cell_type": "markdown",
      "source": [
        "### Sign Up Feature"
      ],
      "metadata": {
        "id": "XNLd9j075CpY"
      }
    },
    {
      "cell_type": "code",
      "source": [
        "# Sign up feature\n",
        "# Storing the relevant information\n",
        "userName = input(\"Create a username: \")\n",
        "firstName = input(\"Enter your First Name: \")\n",
        "lastName = input(\"Enter your Last Name: \")\n",
        "email = input(\"Enter your E-mail: \")\n",
        "password = getpass.getpass(\"Create Password: \")\n",
        "confirmPassword = getpass.getpass(\"Enter the previously entered password: \")\n",
        "\n",
        "# verify if email is valid or not?\n",
        "def verify_email(email):\n",
        "  tld = [\".com\", \".org\", \".net\", \".in\", \".org\"]\n",
        "  if email[-4:] in tld and \"@\" in email:\n",
        "    if \"..\" in email:\n",
        "      return False\n",
        "    else:\n",
        "      return True\n",
        "  else:\n",
        "    return False\n",
        "\n",
        "# verify if the password entered is correct or not\n",
        "def check_password(password, confirmPassword):\n",
        "  return password==confirmPassword"
      ],
      "metadata": {
        "colab": {
          "base_uri": "https://localhost:8080/"
        },
        "collapsed": true,
        "id": "Le5aIXXdYdp7",
        "outputId": "63cebaa2-6efa-4ccd-c51f-d2e49ab091c9"
      },
      "execution_count": null,
      "outputs": [
        {
          "name": "stdout",
          "output_type": "stream",
          "text": [
            "Create a username: mrityunjay_2505\n",
            "Enter your First Name: Mrityunjay\n",
            "Enter your Last Name: Shukla\n",
            "Enter your E-mail: mrityunjay.shukla@bt.com\n",
            "Create Password: ··········\n",
            "Enter the previously entered password: ··········\n"
          ]
        }
      ]
    },
    {
      "cell_type": "code",
      "source": [
        "print(verify_email(email))"
      ],
      "metadata": {
        "colab": {
          "base_uri": "https://localhost:8080/"
        },
        "id": "4pP_LGiQ4flD",
        "outputId": "d3f302ba-c659-4280-c8e2-5d85c4acccef"
      },
      "execution_count": null,
      "outputs": [
        {
          "output_type": "stream",
          "name": "stdout",
          "text": [
            "True\n"
          ]
        }
      ]
    },
    {
      "cell_type": "code",
      "source": [
        "# inserting the signup values\n",
        "conn = sq.connect(\"user_credentials.db\")\n",
        "cursor = conn.cursor()\n",
        "\n",
        "# check the email and password, if correct then enter in the db\n",
        "# else return the error statement\n",
        "if verify_email(email) and check_password(password, confirmPassword):\n",
        "  cursor.execute(f\"INSERT INTO user_credentials VALUES('{userName}','{firstName}','{lastName}','{email}','{password}')\")\n",
        "  conn.commit()\n",
        "else:\n",
        "  print(\"Error in the storing\")\n",
        "  print(\"Either the email is invalid or the passwords don't match\")\n",
        "\n",
        "cursor.close()\n",
        "conn.close()"
      ],
      "metadata": {
        "id": "_7-8e6Wv1MJs"
      },
      "execution_count": null,
      "outputs": []
    },
    {
      "cell_type": "code",
      "source": [
        "# Get the value stored\n",
        "conn = sq.connect(\"user_credentials.db\")\n",
        "cursor = conn.cursor()\n",
        "\n",
        "# Fetch the values\n",
        "cursor.execute(\"SELECT * FROM user_credentials\")\n",
        "print(cursor.fetchall())\n",
        "\n",
        "cursor.close()\n",
        "conn.close()"
      ],
      "metadata": {
        "colab": {
          "base_uri": "https://localhost:8080/"
        },
        "id": "zb5IcM0y3_Wy",
        "outputId": "f5623504-4b05-4882-9554-6e2685566d3c"
      },
      "execution_count": null,
      "outputs": [
        {
          "output_type": "stream",
          "name": "stdout",
          "text": [
            "[('mrityunjay_2505', 'Mrityunjay', 'Shukla', 'mrityunjay.shukla@bt.com', 'manu2505')]\n"
          ]
        }
      ]
    },
    {
      "cell_type": "markdown",
      "source": [
        "### Log in Feature"
      ],
      "metadata": {
        "id": "5FFHB3XJ5GZe"
      }
    },
    {
      "cell_type": "code",
      "source": [
        "# Log in feature\n",
        "# The log in feature will check for the username\n",
        "# and for that username, see if the email and password connected are matching or not\n",
        "loginUserName = input(\"Enter your username: \")\n",
        "\n",
        "conn = sq.connect(\"user_credentials.db\")\n",
        "cursor = conn.cursor()\n",
        "\n",
        "cursor.execute(\"SELECT * FROM user_credentials WHERE username = ?\", (loginUserName,))\n",
        "entry = cursor.fetchone()\n",
        "\n",
        "entry_list = list(entry) if entry else []\n",
        "\n",
        "cursor.close()\n",
        "conn.close()\n",
        "\n",
        "def entry_valid(entry_list):\n",
        "  return True if len(entry_list) == 5 else False\n",
        "\n",
        "loginPassword = input(\"Enter password: \")\n",
        "\n",
        "def check_login_password(password, storedPassword):\n",
        "  return password == storedPassword\n",
        "\n",
        "if entry_valid(entry_list):\n",
        "  loginUserName = entry_list[0]\n",
        "  name = entry_list[1] + entry_list[2]\n",
        "  if check_login_password(loginPassword, entry_list[4]):\n",
        "    loginPassword = entry_list[4]\n",
        "  else:\n",
        "    print(\"Error in the password\")\n",
        "    loginUserName = \"\"\n",
        "    name = \"\"\n",
        "    loginPassword = \"\"\n",
        "    loginEmail = \"\"\n",
        "\n",
        "  loginEmail = entry_list[3]\n",
        "else:\n",
        "  print(\"Error: User doesn't exist\")\n",
        "  loginUserName = \"\"\n",
        "  name = \"\"\n",
        "  loginPassword = \"\"\n",
        "  loginEmail = \"\"\n"
      ],
      "metadata": {
        "colab": {
          "base_uri": "https://localhost:8080/"
        },
        "id": "vry-LQ5m5MeA",
        "outputId": "6e35c762-4079-4db5-bd3e-c69db0e328c9"
      },
      "execution_count": null,
      "outputs": [
        {
          "output_type": "stream",
          "name": "stdout",
          "text": [
            "Enter your username: sdbvkev\n",
            "Enter password: manu2505\n",
            "Error: User doesn't exist\n"
          ]
        }
      ]
    }
  ]
}