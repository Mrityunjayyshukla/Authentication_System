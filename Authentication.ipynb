{
  "nbformat": 4,
  "nbformat_minor": 0,
  "metadata": {
    "colab": {
      "provenance": [],
      "collapsed_sections": [
        "OXJil90NS1p9",
        "ChbB4A6fqew7"
      ],
      "authorship_tag": "ABX9TyPapf18Wb43N3fpEbnnSCQx"
    },
    "kernelspec": {
      "name": "python3",
      "display_name": "Python 3"
    },
    "language_info": {
      "name": "python"
    }
  },
  "cells": [
    {
      "cell_type": "markdown",
      "source": [
        "### Authentication and Authorization System"
      ],
      "metadata": {
        "id": "OXJil90NS1p9"
      }
    },
    {
      "cell_type": "markdown",
      "source": [
        "1. OAuth Grant type: Authorization Code Grant<br>\n",
        "2. Support for multi factor authorization<br>\n",
        "3. JWT Token service"
      ],
      "metadata": {
        "id": "1xrmjRDWS-_V"
      }
    },
    {
      "cell_type": "markdown",
      "source": [
        "###Roadmap to follow\n",
        "1. Creating a user authentication system\n",
        "2. Store client application and permission\n",
        "3. Scope based access control can be chosen (read, write, etc.)\n",
        "4. Generate authorization codes & access tokens when users grant permissions"
      ],
      "metadata": {
        "id": "E5rQ_rTzTjjv"
      }
    },
    {
      "cell_type": "markdown",
      "source": [
        "### Creating and Testing Database"
      ],
      "metadata": {
        "id": "ChbB4A6fqew7"
      }
    },
    {
      "cell_type": "code",
      "source": [
        "# testing database SQLite\n",
        "import sqlite3 as sq\n",
        "\n",
        "conn = sq.connect(\"test_database.db\")\n",
        "cursor = conn.cursor()\n",
        "\n",
        "# Creating a table\n",
        "cursor.execute(\"CREATE TABLE IF NOT EXISTS users (id INTEGER PRIMARY KEY, name TEXT)\")\n",
        "\n",
        "# Inserting values into the table\n",
        "cursor.execute(\"INSERT INTO users (name) VALUES ('Alice')\")\n",
        "conn.commit()\n",
        "\n",
        "# fetching the values\n",
        "cursor.execute(\"SELECT * FROM users\")\n",
        "print(cursor.fetchall())\n",
        "\n",
        "cursor.close()\n",
        "conn.close()\n",
        "\n",
        "# Testing worked perfectly ✔"
      ],
      "metadata": {
        "colab": {
          "base_uri": "https://localhost:8080/"
        },
        "id": "bN39hXJAVYPB",
        "outputId": "e6a51979-f27b-44a0-8c62-fa2aa3ce14bf"
      },
      "execution_count": null,
      "outputs": [
        {
          "output_type": "stream",
          "name": "stdout",
          "text": [
            "[(1, 'Alice')]\n"
          ]
        }
      ]
    },
    {
      "cell_type": "code",
      "source": [
        "import getpass"
      ],
      "metadata": {
        "id": "ZMnV1uf1aCpT"
      },
      "execution_count": 86,
      "outputs": []
    },
    {
      "cell_type": "code",
      "source": [
        "# Creating the database for the storing the values\n",
        "import sqlite3 as sq\n",
        "conn = sq.connect(\"user_credentials.db\")\n",
        "cursor = conn.cursor()\n",
        "\n",
        "# Enable foreign key support\n",
        "conn.execute(\"PRAGMA foreign_keys = ON;\")\n",
        "\n",
        "# Creating the table\n",
        "# username(unique), firstname, lastname, email, password\n",
        "cursor.execute(\"\"\"\n",
        "  CREATE TABLE IF NOT EXISTS user_credentials(\n",
        "    username varchar(20) primary key,\n",
        "    firstname varchar(20),\n",
        "    lastname varchar(20),\n",
        "    email varchar(40),\n",
        "    password_hash varchar(10),\n",
        "    FOREIGN KEY (password_hash) REFERENCES password(password_hash) ON DELETE CASCADE ON UPDATE CASCADE\n",
        "  )\n",
        "\"\"\")\n",
        "\n",
        "cursor.execute(\"\"\"\n",
        "  CREATE TABLE IF NOT EXISTS password(\n",
        "    password_hash varchar(10) PRIMARY KEY,\n",
        "    password varchar(100)\n",
        "  )\n",
        "\"\"\")\n",
        "\n",
        "cursor.close()\n",
        "conn.close()"
      ],
      "metadata": {
        "id": "SkZLXM71y-eV"
      },
      "execution_count": 87,
      "outputs": []
    },
    {
      "cell_type": "markdown",
      "source": [
        "### Sign Up Feature"
      ],
      "metadata": {
        "id": "XNLd9j075CpY"
      }
    },
    {
      "cell_type": "code",
      "source": [
        "# Sign up feature\n",
        "# Storing the relevant information\n",
        "userName = input(\"Create a username: \")\n",
        "firstName = input(\"Enter your First Name: \")\n",
        "lastName = input(\"Enter your Last Name: \")\n",
        "email = input(\"Enter your E-mail: \")\n",
        "password = getpass.getpass(\"Create Password: \")\n",
        "confirmPassword = getpass.getpass(\"Enter the previously entered password: \")\n",
        "\n",
        "# verify if email is valid or not?\n",
        "def verify_email(email):\n",
        "  tld = [\".com\", \".org\", \".net\", \".in\", \".org\"]\n",
        "  if email[-4:] in tld and \"@\" in email:\n",
        "    if \"..\" in email:\n",
        "      return False\n",
        "    else:\n",
        "      return True\n",
        "  else:\n",
        "    return False\n",
        "\n",
        "# verify if the password entered is correct or not\n",
        "def check_password(password, confirmPassword):\n",
        "  return password==confirmPassword"
      ],
      "metadata": {
        "colab": {
          "base_uri": "https://localhost:8080/"
        },
        "collapsed": true,
        "id": "Le5aIXXdYdp7",
        "outputId": "e68e7585-3050-417e-d498-7b9ca2d22001"
      },
      "execution_count": 88,
      "outputs": [
        {
          "name": "stdout",
          "output_type": "stream",
          "text": [
            "Create a username: mrityunjay2505\n",
            "Enter your First Name: Mrityunjay\n",
            "Enter your Last Name: Shukla\n",
            "Enter your E-mail: mrityunjay.shukla@bt.com\n",
            "Create Password: ··········\n",
            "Enter the previously entered password: ··········\n"
          ]
        }
      ]
    },
    {
      "cell_type": "code",
      "source": [
        "print(verify_email(email))"
      ],
      "metadata": {
        "colab": {
          "base_uri": "https://localhost:8080/"
        },
        "id": "4pP_LGiQ4flD",
        "outputId": "d194be1b-8916-4b36-8d73-e474f6181716"
      },
      "execution_count": 89,
      "outputs": [
        {
          "output_type": "stream",
          "name": "stdout",
          "text": [
            "True\n"
          ]
        }
      ]
    },
    {
      "cell_type": "markdown",
      "source": [
        "Creating and testing a hashing technique to implement password security\n",
        "It should have<br>\n",
        "✅ **Irreversibility**: Cannot recover the original password from the hash.<br>\n",
        "✅ **Avalanche Effect**: Small changes in input drastically change the hash.<br>\n",
        "✅ **Salting**: A random value is added to prevent hash collisions.<br>\n",
        "✅ **High Entropy**: Harder to guess using brute force."
      ],
      "metadata": {
        "id": "kHv3Rdgapisc"
      }
    },
    {
      "cell_type": "code",
      "source": [
        "\n",
        "# Creating the hashing function to encrypt the password\n",
        "def password_encryption(password, salt=\"random_value\"):\n",
        "  hashed_value=0\n",
        "  input_data = password + salt\n",
        "  for char in input_data:\n",
        "    hashed_value = (hashed_value * 31 + ord(char)) % (2**32)\n",
        "  return hex(hashed_value)\n"
      ],
      "metadata": {
        "id": "oP23ZdD4d8X6"
      },
      "execution_count": 90,
      "outputs": []
    },
    {
      "cell_type": "code",
      "source": [
        "# Get the hash for the password\n",
        "if check_password(password, confirmPassword):\n",
        "  hash_password = password_encryption(password)\n",
        ""
      ],
      "metadata": {
        "id": "zM1opJhGetpj"
      },
      "execution_count": 91,
      "outputs": []
    },
    {
      "cell_type": "code",
      "source": [
        "# inserting the signup values\n",
        "conn = sq.connect(\"user_credentials.db\")\n",
        "cursor = conn.cursor()\n",
        "\n",
        "# check the email and password, if correct then enter in the db\n",
        "# else return the error statement\n",
        "if verify_email(email) and check_password(password, confirmPassword):\n",
        "  cursor.execute(f\"INSERT INTO user_credentials VALUES('{userName}','{firstName}','{lastName}','{email}','{hash_password}')\")\n",
        "  conn.commit()\n",
        "\n",
        "  cursor.execute(f\"INSERT INTO password VALUES('{hash_password}', '{password}')\")\n",
        "  conn.commit()\n",
        "else:\n",
        "  print(\"Error in the storing\")\n",
        "  print(\"Either the email is invalid or the passwords don't match\")\n",
        "\n",
        "cursor.close()\n",
        "conn.close()\n",
        "\n",
        "# Note: Create a situation where if username exists, doesn't returns error"
      ],
      "metadata": {
        "id": "_7-8e6Wv1MJs"
      },
      "execution_count": 92,
      "outputs": []
    },
    {
      "cell_type": "code",
      "source": [
        "# Get the value stored\n",
        "conn = sq.connect(\"user_credentials.db\")\n",
        "cursor = conn.cursor()\n",
        "\n",
        "# Fetch the values\n",
        "cursor.execute(\"SELECT * FROM user_credentials\")\n",
        "print(cursor.fetchall())\n",
        "\n",
        "cursor.execute(\"SELECT * FROM password\")\n",
        "print(cursor.fetchall())\n",
        "\n",
        "cursor.close()\n",
        "conn.close()"
      ],
      "metadata": {
        "colab": {
          "base_uri": "https://localhost:8080/"
        },
        "id": "zb5IcM0y3_Wy",
        "outputId": "e8b040e6-1edc-4e04-d039-49deb190ee5e"
      },
      "execution_count": 93,
      "outputs": [
        {
          "output_type": "stream",
          "name": "stdout",
          "text": [
            "[('mrityunjay2505', 'Mrityunjay', 'Shukla', 'mrityunjay.shukla@bt.com', '0x44ae9af8')]\n",
            "[('0x44ae9af8', 'Manu2505')]\n"
          ]
        }
      ]
    },
    {
      "cell_type": "code",
      "source": [
        "# Get the credentials and password\n",
        "conn = sq.connect(\"user_credentials.db\")\n",
        "cursor = conn.cursor()\n",
        "\n",
        "cursor.execute(\"\"\"\n",
        "  SELECT u.username, u.firstname, u.lastname, u.email, p.password\n",
        "  FROM user_credentials as u JOIN password as p\n",
        "  ON u.password_hash=p.password_hash\n",
        "\"\"\")\n",
        "entries = cursor.fetchall()\n",
        "\n",
        "for entry in entries:\n",
        "  print(entry)"
      ],
      "metadata": {
        "colab": {
          "base_uri": "https://localhost:8080/"
        },
        "id": "TjuE7gcmjaW-",
        "outputId": "4ab9a3e2-e4b9-4904-91e6-73ad317278d1"
      },
      "execution_count": 95,
      "outputs": [
        {
          "output_type": "stream",
          "name": "stdout",
          "text": [
            "('mrityunjay2505', 'Mrityunjay', 'Shukla', 'mrityunjay.shukla@bt.com', 'Manu2505')\n"
          ]
        }
      ]
    },
    {
      "cell_type": "code",
      "source": [
        "# Delete a record (TESTING)\n",
        "conn = sq.connect(\"user_credentials.db\")\n",
        "cursor = conn.cursor()\n",
        "\n",
        "cursor.execute(\"DELETE FROM user_credentials where username='mrityunjay2505'\")\n",
        "conn.commit()\n",
        "\n",
        "\n",
        "cursor.close()\n",
        "conn.close()"
      ],
      "metadata": {
        "id": "tU9rIxN9gN4N"
      },
      "execution_count": 77,
      "outputs": []
    },
    {
      "cell_type": "code",
      "source": [
        "# Delete a record\n",
        "conn = sq.connect(\"user_credentials.db\")\n",
        "cursor = conn.cursor()\n",
        "\n",
        "cursor.execute(\"DROP TABLE user_credentials\")\n",
        "conn.commit()\n",
        "\n",
        "cursor.execute(\"DROP TABLE password\")\n",
        "conn.commit()"
      ],
      "metadata": {
        "id": "1md356Dpht8l"
      },
      "execution_count": 85,
      "outputs": []
    },
    {
      "cell_type": "markdown",
      "source": [
        "### Log in Feature"
      ],
      "metadata": {
        "id": "5FFHB3XJ5GZe"
      }
    },
    {
      "cell_type": "code",
      "source": [
        "# Log in feature\n",
        "# The log in feature will check for the username\n",
        "# and for that username, see if the email and password connected are matching or not\n",
        "loginUserName = input(\"Enter your username: \")\n",
        "\n",
        "conn = sq.connect(\"user_credentials.db\")\n",
        "cursor = conn.cursor()\n",
        "\n",
        "# cursor.execute(\"SELECT * FROM user_credentials WHERE username = ?\", (loginUserName,))\n",
        "cursor.execute(\"\"\"\n",
        "  SELECT u.username, u.firstname, u.lastname, u.email, p.password\n",
        "  FROM user_credentials as u JOIN password as p\n",
        "  ON u.password_hash=p.password_hash\n",
        "\"\"\")\n",
        "entry = cursor.fetchone()\n",
        "\n",
        "entry_list = list(entry) if entry else []\n",
        "\n",
        "cursor.close()\n",
        "conn.close()\n",
        "\n",
        "def entry_valid(entry_list):\n",
        "  return True if len(entry_list) == 5 else False\n",
        "\n",
        "loginPassword = input(\"Enter password: \")\n",
        "\n",
        "def check_login_password(password, storedPassword):\n",
        "  return password == storedPassword\n",
        "\n",
        "if entry_valid(entry_list) and loginUserName==entry_list[0]:\n",
        "  loginUserName = entry_list[0]\n",
        "  name = entry_list[1] + entry_list[2]\n",
        "  if check_login_password(loginPassword, entry_list[4]):\n",
        "    loginPassword = entry_list[4]\n",
        "  else:\n",
        "    print(\"Error in the password\")\n",
        "    loginUserName = \"\"\n",
        "    name = \"\"\n",
        "    loginPassword = \"\"\n",
        "    loginEmail = \"\"\n",
        "\n",
        "  loginEmail = entry_list[3]\n",
        "  print(loginEmail, loginPassword)\n",
        "else:\n",
        "  print(\"Error: User doesn't exist\")\n",
        "  loginUserName = \"\"\n",
        "  name = \"\"\n",
        "  loginPassword = \"\"\n",
        "  loginEmail = \"\"\n"
      ],
      "metadata": {
        "colab": {
          "base_uri": "https://localhost:8080/"
        },
        "id": "vry-LQ5m5MeA",
        "outputId": "208320b9-e2ed-4986-d270-028201ec84a6"
      },
      "execution_count": 100,
      "outputs": [
        {
          "output_type": "stream",
          "name": "stdout",
          "text": [
            "Enter your username: mrityunjay2505\n",
            "Enter password: Manu2505\n",
            "mrityunjay.shukla@bt.com Manu2505\n"
          ]
        }
      ]
    }
  ]
}